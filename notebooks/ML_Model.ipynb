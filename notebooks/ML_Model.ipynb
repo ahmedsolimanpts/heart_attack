{
 "cells": [
  {
   "cell_type": "markdown",
   "source": [
    "# Import Libraries"
   ],
   "metadata": {
    "collapsed": false,
    "pycharm": {
     "name": "#%% md\n"
    }
   }
  },
  {
   "cell_type": "code",
   "execution_count": 60,
   "outputs": [],
   "source": [
    "import pandas as pd\n",
    "from sklearn.model_selection import train_test_split\n",
    "from  sklearn.linear_model import LogisticRegression\n",
    "from sklearn.neighbors import KNeighborsClassifier\n",
    "from sklearn.svm import SVC ,LinearSVC\n",
    "from sklearn.ensemble import  RandomForestClassifier ,AdaBoostClassifier ,GradientBoostingClassifier\n",
    "from sklearn.tree import DecisionTreeClassifier\n",
    "from sklearn.naive_bayes import  GaussianNB\n",
    "from sklearn.feature_selection import RFECV\n",
    "from sklearn.model_selection import GridSearchCV\n",
    "import pickle\n",
    "from sklearn.metrics import classification_report ,accuracy_score , f1_score ,precision_score , recall_score\n",
    "import warnings\n",
    "warnings.filterwarnings('ignore')"
   ],
   "metadata": {
    "collapsed": false,
    "pycharm": {
     "name": "#%%\n"
    }
   }
  },
  {
   "cell_type": "code",
   "execution_count": 41,
   "outputs": [],
   "source": [
    "DATA_PATH       = '../data/clean_data.pkl'\n",
    "Clean_Data      = '../data/prep_data.pkl'\n",
    "x_train_path    = '../data/x_train.pkl'\n",
    "x_test_path     = '../data/x_test.pkl'\n",
    "y_train_path    = '../data/y_train.pkl'\n",
    "y_test_path     = '../data/y_test.pkl'"
   ],
   "metadata": {
    "collapsed": false,
    "pycharm": {
     "name": "#%%\n"
    }
   }
  },
  {
   "cell_type": "code",
   "execution_count": 61,
   "outputs": [
    {
     "data": {
      "text/plain": "     age sex cp  trtbps  chol fbs restecg  thalachh exng  oldpeak slp caa  \\\n0     63   1  3     145   233   1       0       150    0      2.3   0   0   \n1     37   1  2     130   250   0       1       187    0      3.5   0   0   \n2     41   0  1     130   204   0       0       172    0      1.4   2   0   \n3     56   1  1     120   236   0       1       178    0      0.8   2   0   \n5     57   1  0     140   192   0       1       148    0      0.4   1   0   \n..   ...  .. ..     ...   ...  ..     ...       ...  ...      ...  ..  ..   \n297   57   0  0     140   241   0       1       123    1      0.2   1   0   \n298   45   1  3     110   264   0       1       132    0      1.2   1   0   \n299   68   1  0     144   193   1       1       141    0      3.4   1   2   \n300   57   1  0     130   131   0       1       115    1      1.2   1   1   \n301   57   0  1     130   236   0       0       174    0      0.0   1   1   \n\n    thall  output  \n0       1       1  \n1       2       1  \n2       2       1  \n3       2       1  \n5       1       1  \n..    ...     ...  \n297     3       0  \n298     3       0  \n299     3       0  \n300     3       0  \n301     2       0  \n\n[276 rows x 14 columns]",
      "text/html": "<div>\n<style scoped>\n    .dataframe tbody tr th:only-of-type {\n        vertical-align: middle;\n    }\n\n    .dataframe tbody tr th {\n        vertical-align: top;\n    }\n\n    .dataframe thead th {\n        text-align: right;\n    }\n</style>\n<table border=\"1\" class=\"dataframe\">\n  <thead>\n    <tr style=\"text-align: right;\">\n      <th></th>\n      <th>age</th>\n      <th>sex</th>\n      <th>cp</th>\n      <th>trtbps</th>\n      <th>chol</th>\n      <th>fbs</th>\n      <th>restecg</th>\n      <th>thalachh</th>\n      <th>exng</th>\n      <th>oldpeak</th>\n      <th>slp</th>\n      <th>caa</th>\n      <th>thall</th>\n      <th>output</th>\n    </tr>\n  </thead>\n  <tbody>\n    <tr>\n      <th>0</th>\n      <td>63</td>\n      <td>1</td>\n      <td>3</td>\n      <td>145</td>\n      <td>233</td>\n      <td>1</td>\n      <td>0</td>\n      <td>150</td>\n      <td>0</td>\n      <td>2.3</td>\n      <td>0</td>\n      <td>0</td>\n      <td>1</td>\n      <td>1</td>\n    </tr>\n    <tr>\n      <th>1</th>\n      <td>37</td>\n      <td>1</td>\n      <td>2</td>\n      <td>130</td>\n      <td>250</td>\n      <td>0</td>\n      <td>1</td>\n      <td>187</td>\n      <td>0</td>\n      <td>3.5</td>\n      <td>0</td>\n      <td>0</td>\n      <td>2</td>\n      <td>1</td>\n    </tr>\n    <tr>\n      <th>2</th>\n      <td>41</td>\n      <td>0</td>\n      <td>1</td>\n      <td>130</td>\n      <td>204</td>\n      <td>0</td>\n      <td>0</td>\n      <td>172</td>\n      <td>0</td>\n      <td>1.4</td>\n      <td>2</td>\n      <td>0</td>\n      <td>2</td>\n      <td>1</td>\n    </tr>\n    <tr>\n      <th>3</th>\n      <td>56</td>\n      <td>1</td>\n      <td>1</td>\n      <td>120</td>\n      <td>236</td>\n      <td>0</td>\n      <td>1</td>\n      <td>178</td>\n      <td>0</td>\n      <td>0.8</td>\n      <td>2</td>\n      <td>0</td>\n      <td>2</td>\n      <td>1</td>\n    </tr>\n    <tr>\n      <th>5</th>\n      <td>57</td>\n      <td>1</td>\n      <td>0</td>\n      <td>140</td>\n      <td>192</td>\n      <td>0</td>\n      <td>1</td>\n      <td>148</td>\n      <td>0</td>\n      <td>0.4</td>\n      <td>1</td>\n      <td>0</td>\n      <td>1</td>\n      <td>1</td>\n    </tr>\n    <tr>\n      <th>...</th>\n      <td>...</td>\n      <td>...</td>\n      <td>...</td>\n      <td>...</td>\n      <td>...</td>\n      <td>...</td>\n      <td>...</td>\n      <td>...</td>\n      <td>...</td>\n      <td>...</td>\n      <td>...</td>\n      <td>...</td>\n      <td>...</td>\n      <td>...</td>\n    </tr>\n    <tr>\n      <th>297</th>\n      <td>57</td>\n      <td>0</td>\n      <td>0</td>\n      <td>140</td>\n      <td>241</td>\n      <td>0</td>\n      <td>1</td>\n      <td>123</td>\n      <td>1</td>\n      <td>0.2</td>\n      <td>1</td>\n      <td>0</td>\n      <td>3</td>\n      <td>0</td>\n    </tr>\n    <tr>\n      <th>298</th>\n      <td>45</td>\n      <td>1</td>\n      <td>3</td>\n      <td>110</td>\n      <td>264</td>\n      <td>0</td>\n      <td>1</td>\n      <td>132</td>\n      <td>0</td>\n      <td>1.2</td>\n      <td>1</td>\n      <td>0</td>\n      <td>3</td>\n      <td>0</td>\n    </tr>\n    <tr>\n      <th>299</th>\n      <td>68</td>\n      <td>1</td>\n      <td>0</td>\n      <td>144</td>\n      <td>193</td>\n      <td>1</td>\n      <td>1</td>\n      <td>141</td>\n      <td>0</td>\n      <td>3.4</td>\n      <td>1</td>\n      <td>2</td>\n      <td>3</td>\n      <td>0</td>\n    </tr>\n    <tr>\n      <th>300</th>\n      <td>57</td>\n      <td>1</td>\n      <td>0</td>\n      <td>130</td>\n      <td>131</td>\n      <td>0</td>\n      <td>1</td>\n      <td>115</td>\n      <td>1</td>\n      <td>1.2</td>\n      <td>1</td>\n      <td>1</td>\n      <td>3</td>\n      <td>0</td>\n    </tr>\n    <tr>\n      <th>301</th>\n      <td>57</td>\n      <td>0</td>\n      <td>1</td>\n      <td>130</td>\n      <td>236</td>\n      <td>0</td>\n      <td>0</td>\n      <td>174</td>\n      <td>0</td>\n      <td>0.0</td>\n      <td>1</td>\n      <td>1</td>\n      <td>2</td>\n      <td>0</td>\n    </tr>\n  </tbody>\n</table>\n<p>276 rows × 14 columns</p>\n</div>"
     },
     "execution_count": 61,
     "metadata": {},
     "output_type": "execute_result"
    }
   ],
   "source": [
    "# READ DATA\n",
    "df = pd.read_pickle(Clean_Data)\n",
    "df"
   ],
   "metadata": {
    "collapsed": false,
    "pycharm": {
     "name": "#%%\n"
    }
   }
  },
  {
   "cell_type": "code",
   "execution_count": 31,
   "outputs": [
    {
     "name": "stdout",
     "output_type": "stream",
     "text": [
      "<class 'pandas.core.frame.DataFrame'>\n",
      "Int64Index: 276 entries, 0 to 301\n",
      "Data columns (total 14 columns):\n",
      " #   Column    Non-Null Count  Dtype   \n",
      "---  ------    --------------  -----   \n",
      " 0   age       276 non-null    int64   \n",
      " 1   sex       276 non-null    category\n",
      " 2   cp        276 non-null    category\n",
      " 3   trtbps    276 non-null    int64   \n",
      " 4   chol      276 non-null    int64   \n",
      " 5   fbs       276 non-null    category\n",
      " 6   restecg   276 non-null    category\n",
      " 7   thalachh  276 non-null    int64   \n",
      " 8   exng      276 non-null    category\n",
      " 9   oldpeak   276 non-null    float64 \n",
      " 10  slp       276 non-null    category\n",
      " 11  caa       276 non-null    category\n",
      " 12  thall     276 non-null    category\n",
      " 13  output    276 non-null    int64   \n",
      "dtypes: category(8), float64(1), int64(5)\n",
      "memory usage: 18.5 KB\n"
     ]
    }
   ],
   "source": [
    "df.info()"
   ],
   "metadata": {
    "collapsed": false,
    "pycharm": {
     "name": "#%%\n"
    }
   }
  },
  {
   "cell_type": "markdown",
   "source": [
    "# Train & EVAL Model"
   ],
   "metadata": {
    "collapsed": false,
    "pycharm": {
     "name": "#%% md\n"
    }
   }
  },
  {
   "cell_type": "code",
   "execution_count": 57,
   "outputs": [],
   "source": [
    "def train_eval(models):\n",
    "    '''\n",
    "    Function To Train Data on a List of Models\n",
    "    return:\n",
    "    List contains measure of multi accuracy method of every model in the list\n",
    "    '''\n",
    "    models_acc = []\n",
    "    # Load Spliting DATA\n",
    "    x_train = pd.read_pickle(x_train_path)\n",
    "    x_test  = pd.read_pickle(x_test_path)\n",
    "    y_train = pd.read_pickle(y_train_path)\n",
    "    y_test  = pd.read_pickle(y_test_path)\n",
    "    for model in models:\n",
    "        model.fit(x_train,y_train)\n",
    "        y_h = model.predict(x_test)\n",
    "        per = precision_score(y_test,y_h)\n",
    "        rec = recall_score(y_test,y_h)\n",
    "        f1 = f1_score(y_test,y_h)\n",
    "        acc = accuracy_score(y_test,y_h)\n",
    "        models_acc.append([model,acc,f1,per,rec])\n",
    "    del x_train ,x_test ,y_train ,y_test ,per , y_h ,acc ,f1,rec\n",
    "    return models_acc"
   ],
   "metadata": {
    "collapsed": false,
    "pycharm": {
     "name": "#%%\n"
    }
   }
  },
  {
   "cell_type": "code",
   "execution_count": 58,
   "outputs": [
    {
     "data": {
      "text/plain": "                                                name       acc        f1  \\\n0                LogisticRegression(random_state=42)  0.891566  0.912621   \n1                               SVC(random_state=42)  0.746988  0.810811   \n2  (DecisionTreeClassifier(max_features='auto', r...  0.843373  0.865979   \n3            DecisionTreeClassifier(random_state=42)  0.831325  0.865385   \n4                                       GaussianNB()  0.867470  0.888889   \n5                             KNeighborsClassifier()  0.638554  0.693878   \n6                         LinearSVC(random_state=42)  0.819277  0.831461   \n7  (DecisionTreeClassifier(max_depth=1, random_st...  0.795181  0.831683   \n8  ([DecisionTreeRegressor(criterion='friedman_ms...  0.807229  0.843137   \n\n   perscion  recall  \n0  0.886792    0.94  \n1  0.737705    0.90  \n2  0.893617    0.84  \n3  0.833333    0.90  \n4  0.897959    0.88  \n5  0.708333    0.68  \n6  0.948718    0.74  \n7  0.823529    0.84  \n8  0.826923    0.86  ",
      "text/html": "<div>\n<style scoped>\n    .dataframe tbody tr th:only-of-type {\n        vertical-align: middle;\n    }\n\n    .dataframe tbody tr th {\n        vertical-align: top;\n    }\n\n    .dataframe thead th {\n        text-align: right;\n    }\n</style>\n<table border=\"1\" class=\"dataframe\">\n  <thead>\n    <tr style=\"text-align: right;\">\n      <th></th>\n      <th>name</th>\n      <th>acc</th>\n      <th>f1</th>\n      <th>perscion</th>\n      <th>recall</th>\n    </tr>\n  </thead>\n  <tbody>\n    <tr>\n      <th>0</th>\n      <td>LogisticRegression(random_state=42)</td>\n      <td>0.891566</td>\n      <td>0.912621</td>\n      <td>0.886792</td>\n      <td>0.94</td>\n    </tr>\n    <tr>\n      <th>1</th>\n      <td>SVC(random_state=42)</td>\n      <td>0.746988</td>\n      <td>0.810811</td>\n      <td>0.737705</td>\n      <td>0.90</td>\n    </tr>\n    <tr>\n      <th>2</th>\n      <td>(DecisionTreeClassifier(max_features='auto', r...</td>\n      <td>0.843373</td>\n      <td>0.865979</td>\n      <td>0.893617</td>\n      <td>0.84</td>\n    </tr>\n    <tr>\n      <th>3</th>\n      <td>DecisionTreeClassifier(random_state=42)</td>\n      <td>0.831325</td>\n      <td>0.865385</td>\n      <td>0.833333</td>\n      <td>0.90</td>\n    </tr>\n    <tr>\n      <th>4</th>\n      <td>GaussianNB()</td>\n      <td>0.867470</td>\n      <td>0.888889</td>\n      <td>0.897959</td>\n      <td>0.88</td>\n    </tr>\n    <tr>\n      <th>5</th>\n      <td>KNeighborsClassifier()</td>\n      <td>0.638554</td>\n      <td>0.693878</td>\n      <td>0.708333</td>\n      <td>0.68</td>\n    </tr>\n    <tr>\n      <th>6</th>\n      <td>LinearSVC(random_state=42)</td>\n      <td>0.819277</td>\n      <td>0.831461</td>\n      <td>0.948718</td>\n      <td>0.74</td>\n    </tr>\n    <tr>\n      <th>7</th>\n      <td>(DecisionTreeClassifier(max_depth=1, random_st...</td>\n      <td>0.795181</td>\n      <td>0.831683</td>\n      <td>0.823529</td>\n      <td>0.84</td>\n    </tr>\n    <tr>\n      <th>8</th>\n      <td>([DecisionTreeRegressor(criterion='friedman_ms...</td>\n      <td>0.807229</td>\n      <td>0.843137</td>\n      <td>0.826923</td>\n      <td>0.86</td>\n    </tr>\n  </tbody>\n</table>\n</div>"
     },
     "execution_count": 58,
     "metadata": {},
     "output_type": "execute_result"
    }
   ],
   "source": [
    "# Create Model Instances\n",
    "lr = LogisticRegression(random_state=42)\n",
    "svm = SVC(random_state=42)\n",
    "rf  = RandomForestClassifier(random_state=42)\n",
    "dt = DecisionTreeClassifier(random_state=42)\n",
    "gus = GaussianNB()\n",
    "knn = KNeighborsClassifier()\n",
    "lin_svc = LinearSVC(random_state=42)\n",
    "ada = AdaBoostClassifier(random_state=42)\n",
    "grd  = GradientBoostingClassifier(random_state=42)\n",
    "\n",
    "# Create List Of All  Instances\n",
    "models = [lr,svm,rf,dt,gus,knn,lin_svc,ada,grd]\n",
    "\n",
    "# TRAIN & EVAL\n",
    "df_acc = train_eval(models)\n",
    "\n",
    "# PRINT MODELS ACCURACY\n",
    "pd.DataFrame(df_acc,columns=['name','acc','f1','perscion','recall'])"
   ],
   "metadata": {
    "collapsed": false,
    "pycharm": {
     "name": "#%%\n"
    }
   }
  },
  {
   "cell_type": "code",
   "execution_count": 56,
   "outputs": [
    {
     "name": "stdout",
     "output_type": "stream",
     "text": [
      "              precision    recall  f1-score   support\n",
      "\n",
      "           0       0.90      0.82      0.86        33\n",
      "           1       0.89      0.94      0.91        50\n",
      "\n",
      "    accuracy                           0.89        83\n",
      "   macro avg       0.89      0.88      0.88        83\n",
      "weighted avg       0.89      0.89      0.89        83\n",
      "\n",
      "0.912621359223301\n",
      "0.8867924528301887\n",
      "0.94\n",
      "0.891566265060241\n"
     ]
    }
   ],
   "source": [
    "# Load Spliting DATA\n",
    "x_train = pd.read_pickle(x_train_path)\n",
    "x_test  = pd.read_pickle(x_test_path)\n",
    "y_train = pd.read_pickle(y_train_path)\n",
    "y_test  = pd.read_pickle(y_test_path)\n",
    "\n",
    "# Create Model\n",
    "model  = LogisticRegression(random_state=42)\n",
    "\n",
    "# Train Model\n",
    "model.fit(x_train,y_train)\n",
    "\n",
    "# EVAL Model\n",
    "y_h = model.predict(x_test)\n",
    "print(classification_report(y_test,y_h))\n",
    "print(f1_score(y_test,y_h))\n",
    "print(precision_score(y_test,y_h))\n",
    "print(recall_score(y_test,y_h))\n",
    "print(accuracy_score(y_test,y_h))"
   ],
   "metadata": {
    "collapsed": false,
    "pycharm": {
     "name": "#%%\n"
    }
   }
  },
  {
   "cell_type": "code",
   "execution_count": 37,
   "outputs": [
    {
     "data": {
      "text/plain": "0.891566265060241"
     },
     "execution_count": 37,
     "metadata": {},
     "output_type": "execute_result"
    }
   ],
   "source": [
    "model.score(x_test,y_test)"
   ],
   "metadata": {
    "collapsed": false,
    "pycharm": {
     "name": "#%%\n"
    }
   }
  },
  {
   "cell_type": "markdown",
   "source": [
    "# Save Model"
   ],
   "metadata": {
    "collapsed": false,
    "pycharm": {
     "name": "#%% md\n"
    }
   }
  },
  {
   "cell_type": "code",
   "execution_count": 55,
   "outputs": [],
   "source": [
    "# model_path = '../models/89_acc.sav'\n",
    "# pickle.dump(model , open(model_path,'wb'))"
   ],
   "metadata": {
    "collapsed": false,
    "pycharm": {
     "name": "#%%\n"
    }
   }
  },
  {
   "cell_type": "markdown",
   "source": [
    "# Fine Tuning Hyperparameters"
   ],
   "metadata": {
    "collapsed": false,
    "pycharm": {
     "name": "#%% md\n"
    }
   }
  },
  {
   "cell_type": "code",
   "execution_count": 92,
   "outputs": [],
   "source": [
    "params = {\n",
    "    'penalty':['l2','l1','elasticnet','none'],\n",
    "    'dual':[True,False],\n",
    "    'tol':[0.0001,0.01,1.0,50.0],\n",
    "    'C':[1.0,0.1,2.0,5.0,0.001],\n",
    "    'fit_intercept':[True,False],\n",
    "    'solver':['newton-cg','lbfgs','liblinear','sag','saga'],\n",
    "    'max_iter':[1000,100,1000000],\n",
    "    'multi_class':['auto', 'ovr', 'multinomial'],\n",
    "    'warm_start':[True,False],\n",
    "}\n",
    "lr = LogisticRegression()"
   ],
   "metadata": {
    "collapsed": false,
    "pycharm": {
     "name": "#%%\n"
    }
   }
  },
  {
   "cell_type": "code",
   "execution_count": 93,
   "outputs": [
    {
     "data": {
      "text/plain": "GridSearchCV(cv=3, estimator=LogisticRegression(),\n             param_grid={'C': [1.0, 0.1, 2.0, 5.0, 0.001],\n                         'dual': [True, False], 'fit_intercept': [True, False],\n                         'max_iter': [1000, 100, 1000000],\n                         'multi_class': ['auto', 'ovr', 'multinomial'],\n                         'penalty': ['l2', 'l1', 'elasticnet', 'none'],\n                         'solver': ['newton-cg', 'lbfgs', 'liblinear', 'sag',\n                                    'saga'],\n                         'tol': [0.0001, 0.01, 1.0, 50.0],\n                         'warm_start': [True, False]})"
     },
     "execution_count": 93,
     "metadata": {},
     "output_type": "execute_result"
    }
   ],
   "source": [
    "x   = df.drop('output',axis=1).copy()\n",
    "y   = df['output'].copy()\n",
    "clf = GridSearchCV(lr,params,cv=3)\n",
    "clf.fit(x,y)"
   ],
   "metadata": {
    "collapsed": false,
    "pycharm": {
     "name": "#%%\n"
    }
   }
  },
  {
   "cell_type": "code",
   "execution_count": 95,
   "outputs": [],
   "source": [
    "# print(sorted(clf.cv_results_.keys()))"
   ],
   "metadata": {
    "collapsed": false,
    "pycharm": {
     "name": "#%%\n"
    }
   }
  },
  {
   "cell_type": "code",
   "execution_count": 94,
   "outputs": [
    {
     "name": "stdout",
     "output_type": "stream",
     "text": [
      "0.8442028985507246\n",
      "\n",
      "{'C': 0.1, 'dual': True, 'fit_intercept': False, 'max_iter': 1000000, 'multi_class': 'auto', 'penalty': 'l2', 'solver': 'liblinear', 'tol': 1.0, 'warm_start': False}\n"
     ]
    }
   ],
   "source": [
    "print(clf.best_score_)\n",
    "print()\n",
    "print(clf.best_params_)"
   ],
   "metadata": {
    "collapsed": false,
    "pycharm": {
     "name": "#%%\n"
    }
   }
  },
  {
   "cell_type": "markdown",
   "source": [
    "# Feature Selection"
   ],
   "metadata": {
    "collapsed": false,
    "pycharm": {
     "name": "#%% md\n"
    }
   }
  },
  {
   "cell_type": "code",
   "execution_count": 66,
   "outputs": [],
   "source": [
    "def get_best_cols(model,x,y):\n",
    "    model = LogisticRegression()\n",
    "    RF = RFECV(model,step=1,cv=2,n_jobs=-1)\n",
    "    RF.fit(x,y)\n",
    "    best_cols = RF.support_\n",
    "    # print(RF.support_)\n",
    "    # print('------------------------------------------')\n",
    "    # print(RF.ranking_)\n",
    "    # print('------------------------------------------')\n",
    "    # print(x.columns[best_cols])\n",
    "    # print('------------------------------------------')\n",
    "    print('No . best Columns',len(x.columns[best_cols]))\n",
    "    # print('------------------------------------------')\n",
    "    # print(x.columns[best_cols])\n",
    "    # print('------------------------------------------')\n",
    "    best_cols_name = x.columns[best_cols]\n",
    "    x = x[best_cols_name]\n",
    "    x_train ,x_test , y_train , y_test =train_test_split(x,y,test_size=.3,random_state=42)\n",
    "    model.fit(x_train,y_train)\n",
    "    y_h = model.predict(x_test)\n",
    "    print(classification_report(y_test,y_h))\n",
    "    print(precision_score(y_test,y_h))\n",
    "    print(f1_score(y_test,y_h))\n",
    "    print(accuracy_score(y_test,y_h))"
   ],
   "metadata": {
    "collapsed": false,
    "pycharm": {
     "name": "#%%\n"
    }
   }
  },
  {
   "cell_type": "code",
   "execution_count": 67,
   "outputs": [
    {
     "name": "stdout",
     "output_type": "stream",
     "text": [
      "------------------------------------------\n",
      "------------------------------------------\n",
      "------------------------------------------\n",
      "12\n",
      "------------------------------------------\n",
      "------------------------------------------\n",
      "              precision    recall  f1-score   support\n",
      "\n",
      "           0       0.90      0.82      0.86        33\n",
      "           1       0.89      0.94      0.91        50\n",
      "\n",
      "    accuracy                           0.89        83\n",
      "   macro avg       0.89      0.88      0.88        83\n",
      "weighted avg       0.89      0.89      0.89        83\n",
      "\n",
      "0.8867924528301887\n",
      "0.912621359223301\n",
      "0.891566265060241\n"
     ]
    }
   ],
   "source": [
    "x = df.drop('output',axis=1).copy()\n",
    "y = df['output'].copy()\n",
    "lr = LogisticRegression(random_state=42)\n",
    "get_best_cols(lr,x,y)"
   ],
   "metadata": {
    "collapsed": false,
    "pycharm": {
     "name": "#%%\n"
    }
   }
  },
  {
   "cell_type": "code",
   "execution_count": null,
   "outputs": [],
   "source": [],
   "metadata": {
    "collapsed": false,
    "pycharm": {
     "name": "#%%\n"
    }
   }
  }
 ],
 "metadata": {
  "kernelspec": {
   "display_name": "Python 3",
   "language": "python",
   "name": "python3"
  },
  "language_info": {
   "codemirror_mode": {
    "name": "ipython",
    "version": 2
   },
   "file_extension": ".py",
   "mimetype": "text/x-python",
   "name": "python",
   "nbconvert_exporter": "python",
   "pygments_lexer": "ipython2",
   "version": "2.7.6"
  }
 },
 "nbformat": 4,
 "nbformat_minor": 0
}